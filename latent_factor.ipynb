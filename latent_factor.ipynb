{
 "cells": [
  {
   "cell_type": "code",
   "execution_count": 2,
   "metadata": {},
   "outputs": [],
   "source": [
    "import pandas as pd\n",
    "import numpy as np\n",
    "from surprise import SVD, accuracy, SVDpp\n",
    "from surprise import Dataset, Reader\n",
    "import matplotlib.pyplot as plt"
   ]
  },
  {
   "cell_type": "code",
   "execution_count": 4,
   "metadata": {},
   "outputs": [],
   "source": [
    "train_data = pd.read_csv('train.csv')\n",
    "valid_data = pd.read_csv('valid.csv')\n",
    "test_data = pd.read_csv('test.csv')"
   ]
  },
  {
   "cell_type": "code",
   "execution_count": 7,
   "metadata": {},
   "outputs": [
    {
     "name": "stdout",
     "output_type": "stream",
     "text": [
      "905894 113236 113237\n"
     ]
    }
   ],
   "source": [
    "print(len(train_data), len(valid_data), len(test_data))"
   ]
  },
  {
   "cell_type": "code",
   "execution_count": 8,
   "metadata": {},
   "outputs": [
    {
     "data": {
      "text/html": [
       "<div>\n",
       "<style scoped>\n",
       "    .dataframe tbody tr th:only-of-type {\n",
       "        vertical-align: middle;\n",
       "    }\n",
       "\n",
       "    .dataframe tbody tr th {\n",
       "        vertical-align: top;\n",
       "    }\n",
       "\n",
       "    .dataframe thead th {\n",
       "        text-align: right;\n",
       "    }\n",
       "</style>\n",
       "<table border=\"1\" class=\"dataframe\">\n",
       "  <thead>\n",
       "    <tr style=\"text-align: right;\">\n",
       "      <th></th>\n",
       "      <th>user</th>\n",
       "      <th>item</th>\n",
       "      <th>rating</th>\n",
       "    </tr>\n",
       "  </thead>\n",
       "  <tbody>\n",
       "    <tr>\n",
       "      <th>0</th>\n",
       "      <td>113920</td>\n",
       "      <td>108234</td>\n",
       "      <td>0</td>\n",
       "    </tr>\n",
       "    <tr>\n",
       "      <th>1</th>\n",
       "      <td>40482</td>\n",
       "      <td>15627</td>\n",
       "      <td>4</td>\n",
       "    </tr>\n",
       "    <tr>\n",
       "      <th>2</th>\n",
       "      <td>59345</td>\n",
       "      <td>17898</td>\n",
       "      <td>3</td>\n",
       "    </tr>\n",
       "    <tr>\n",
       "      <th>3</th>\n",
       "      <td>73568</td>\n",
       "      <td>143053</td>\n",
       "      <td>2</td>\n",
       "    </tr>\n",
       "    <tr>\n",
       "      <th>4</th>\n",
       "      <td>5015</td>\n",
       "      <td>20171</td>\n",
       "      <td>5</td>\n",
       "    </tr>\n",
       "  </tbody>\n",
       "</table>\n",
       "</div>"
      ],
      "text/plain": [
       "     user    item  rating\n",
       "0  113920  108234       0\n",
       "1   40482   15627       4\n",
       "2   59345   17898       3\n",
       "3   73568  143053       2\n",
       "4    5015   20171       5"
      ]
     },
     "execution_count": 8,
     "metadata": {},
     "output_type": "execute_result"
    }
   ],
   "source": [
    "train_data.head()"
   ]
  },
  {
   "cell_type": "code",
   "execution_count": 28,
   "metadata": {},
   "outputs": [],
   "source": [
    "# let's only use 1/10 of the train data\n",
    "# train_data = train_data.sample(frac=0.1, random_state=42)"
   ]
  },
  {
   "cell_type": "code",
   "execution_count": 5,
   "metadata": {},
   "outputs": [],
   "source": [
    "reader = Reader(rating_scale=(0, 5))\n",
    "train_dataset = Dataset.load_from_df(train_data[['user', 'item', 'rating']], reader)\n",
    "trainset = train_dataset.build_full_trainset()"
   ]
  },
  {
   "cell_type": "code",
   "execution_count": 10,
   "metadata": {},
   "outputs": [],
   "source": [
    "valid_dataset = Dataset.load_from_df(valid_data[['user', 'item', 'rating']], reader)\n",
    "validset = valid_dataset.build_full_trainset().build_testset()"
   ]
  },
  {
   "cell_type": "code",
   "execution_count": 6,
   "metadata": {},
   "outputs": [
    {
     "name": "stdout",
     "output_type": "stream",
     "text": [
      "4.41098848209614 1.6014121493971378\n",
      "4.413790667278957 1.5900863204307607\n",
      "4.408461898496075 1.5946025275430167\n"
     ]
    }
   ],
   "source": [
    "# calculate the mean and std of the validation set\n",
    "mean = train_data['rating'].mean()\n",
    "var = train_data['rating'].var()\n",
    "print(mean, var)\n",
    "mean = valid_data['rating'].mean()\n",
    "var = valid_data['rating'].var()\n",
    "print(mean, var)\n"
   ]
  },
  {
   "cell_type": "code",
   "execution_count": 12,
   "metadata": {},
   "outputs": [],
   "source": [
    "users_in_train = train_data['user'].unique()\n",
    "items_in_train = train_data['item'].unique()\n",
    "users_in_valid = valid_data['user'].unique()\n",
    "items_in_valid = valid_data['item'].unique()\n",
    "items_in_test = test_data['item'].unique()\n"
   ]
  },
  {
   "cell_type": "code",
   "execution_count": 13,
   "metadata": {},
   "outputs": [
    {
     "name": "stdout",
     "output_type": "stream",
     "text": [
      "users in train:  192306\n",
      "users in valid:  41194\n",
      "users not seen in train:  17445\n"
     ]
    }
   ],
   "source": [
    "print(\"users in train: \", len(users_in_train))\n",
    "print(\"users in valid: \", len(users_in_valid))\n",
    "print(\"users not seen in train: \", len(set(users_in_valid) - set(users_in_train)))\n"
   ]
  },
  {
   "cell_type": "code",
   "execution_count": 14,
   "metadata": {},
   "outputs": [
    {
     "name": "stdout",
     "output_type": "stream",
     "text": [
      "items in train:  211274\n",
      "items in valid:  63487\n",
      "items not seen in train:  10761\n"
     ]
    }
   ],
   "source": [
    "print(\"items in train: \", len(items_in_train))\n",
    "print(\"items in valid: \", len(items_in_valid))\n",
    "print(\"items not seen in train: \", len(set(items_in_valid) - set(items_in_train)))"
   ]
  },
  {
   "cell_type": "code",
   "execution_count": 6,
   "metadata": {},
   "outputs": [],
   "source": [
    "# merge train and valid frame\n",
    "cv_data = pd.concat([train_data, valid_data], ignore_index=True)\n",
    "cv_dataset = Dataset.load_from_df(cv_data[['user', 'item', 'rating']], reader)"
   ]
  },
  {
   "cell_type": "code",
   "execution_count": 16,
   "metadata": {},
   "outputs": [
    {
     "name": "stdout",
     "output_type": "stream",
     "text": [
      "{'rmse': {'n_factors': 1, 'lr_all': 0.005}}\n",
      "{'rmse': 1.2146720718719497}\n"
     ]
    }
   ],
   "source": [
    "from surprise.model_selection import GridSearchCV\n",
    "param_grid = {'n_factors': [1, 2, 5, 10], 'lr_all': [2e-3, 5e-3, 0.01]}\n",
    "model_gs = GridSearchCV(SVD, param_grid, measures=['rmse'], cv=5, n_jobs=-1)\n",
    "model_gs.fit(cv_dataset)\n",
    "print(model_gs.best_params)\n",
    "print(model_gs.best_score)\n"
   ]
  },
  {
   "cell_type": "code",
   "execution_count": 114,
   "metadata": {},
   "outputs": [
    {
     "name": "stdout",
     "output_type": "stream",
     "text": [
      "{'rmse': {'reg_bu': 0.005, 'reg_bi': 0.4, 'reg_all': 0.2, 'n_factors': 1, 'lr_all': 0.005}}\n",
      "{'rmse': 1.2150348501852548}\n"
     ]
    }
   ],
   "source": [
    "param_grid = {'reg_bu': [0.005, 0.01, 0.02], 'reg_bi': [0.2, 0.4, 1], 'reg_all': [0.2], 'n_factors': [1], 'lr_all': [0.005]}\n",
    "model_gs = GridSearchCV(SVD, param_grid, measures=['rmse'], cv=5, n_jobs=-1)\n",
    "model_gs.fit(cv_dataset)\n",
    "print(model_gs.best_params)\n",
    "print(model_gs.best_score)"
   ]
  },
  {
   "cell_type": "code",
   "execution_count": 118,
   "metadata": {},
   "outputs": [
    {
     "name": "stdout",
     "output_type": "stream",
     "text": [
      "{'rmse': {'n_factors': 1, 'lr_all': 0.005, 'reg_bu': 0.005, 'reg_bi': 0.5, 'reg_pu': 0.5, 'reg_qi': 0.1}}\n",
      "{'rmse': 1.2148617303712848}\n"
     ]
    }
   ],
   "source": [
    "param_grid = {'n_factors': [1], 'lr_all': [0.005], 'reg_bu': [0.005, 0.01], 'reg_bi': [0.4, 0.5], 'reg_pu': [0.4, 0.5], 'reg_qi': [0.005, 0.1, 0.2]}\n",
    "model_gs = GridSearchCV(SVD, param_grid, measures=['rmse'], cv=5, n_jobs=-1)\n",
    "model_gs.fit(cv_dataset)\n",
    "print(model_gs.best_params)\n",
    "print(model_gs.best_score)\n"
   ]
  },
  {
   "cell_type": "code",
   "execution_count": 7,
   "metadata": {},
   "outputs": [
    {
     "data": {
      "text/plain": [
       "<surprise.prediction_algorithms.matrix_factorization.SVD at 0x7f3eb4baa3b0>"
      ]
     },
     "execution_count": 7,
     "metadata": {},
     "output_type": "execute_result"
    }
   ],
   "source": [
    "# train the model with the best params\n",
    "model = SVD(n_factors=1, reg_bu=0.005, reg_bi=0.5, reg_pu=0.5, reg_qi=0.1, lr_all=0.005)\n",
    "model.fit(cv_dataset.build_full_trainset())"
   ]
  },
  {
   "cell_type": "code",
   "execution_count": 9,
   "metadata": {},
   "outputs": [],
   "source": [
    "\n",
    "testset = Dataset.load_from_df(test_data[['user', 'item', 'rating']], reader).build_full_trainset().build_testset()"
   ]
  },
  {
   "cell_type": "code",
   "execution_count": 10,
   "metadata": {},
   "outputs": [
    {
     "name": "stdout",
     "output_type": "stream",
     "text": [
      "MSE: 1.4535\n"
     ]
    }
   ],
   "source": [
    "predictions = model.test(testset)\n",
    "mse = accuracy.mse(predictions=predictions)"
   ]
  },
  {
   "cell_type": "code",
   "execution_count": 13,
   "metadata": {},
   "outputs": [
    {
     "data": {
      "text/plain": [
       "[Prediction(uid=577, iid=24831, r_ui=4.0, est=4.267370432060136, details={'was_impossible': False}),\n",
       " Prediction(uid=577, iid=30750, r_ui=4.0, est=4.233846583428183, details={'was_impossible': False}),\n",
       " Prediction(uid=577, iid=20947, r_ui=4.0, est=4.267370432060136, details={'was_impossible': False}),\n",
       " Prediction(uid=9213, iid=77881, r_ui=4.0, est=4.105716912070218, details={'was_impossible': False}),\n",
       " Prediction(uid=9213, iid=45515, r_ui=5.0, est=4.144070979558454, details={'was_impossible': False}),\n",
       " Prediction(uid=9213, iid=20364, r_ui=4.0, est=3.997291326808147, details={'was_impossible': False}),\n",
       " Prediction(uid=9213, iid=5715, r_ui=4.0, est=3.5686409656225972, details={'was_impossible': False}),\n",
       " Prediction(uid=9213, iid=59923, r_ui=4.0, est=4.016469913652654, details={'was_impossible': False}),\n",
       " Prediction(uid=9213, iid=9254, r_ui=4.0, est=4.035542767258308, details={'was_impossible': False}),\n",
       " Prediction(uid=9213, iid=41232, r_ui=2.0, est=4.120965171025998, details={'was_impossible': False}),\n",
       " Prediction(uid=9213, iid=37663, r_ui=4.0, est=4.230420770083785, details={'was_impossible': False}),\n",
       " Prediction(uid=9213, iid=74117, r_ui=3.0, est=4.079466097478978, details={'was_impossible': False}),\n",
       " Prediction(uid=9213, iid=64665, r_ui=4.0, est=4.120965171025998, details={'was_impossible': False}),\n",
       " Prediction(uid=9213, iid=86668, r_ui=4.0, est=4.061268940047049, details={'was_impossible': False}),\n",
       " Prediction(uid=9213, iid=13122, r_ui=1.0, est=3.997222595525716, details={'was_impossible': False}),\n",
       " Prediction(uid=9213, iid=42587, r_ui=5.0, est=4.279797007703208, details={'was_impossible': False}),\n",
       " Prediction(uid=9213, iid=59643, r_ui=4.0, est=4.263389492469176, details={'was_impossible': False}),\n",
       " Prediction(uid=9213, iid=43739, r_ui=5.0, est=4.23134310519206, details={'was_impossible': False}),\n",
       " Prediction(uid=9213, iid=180576, r_ui=5.0, est=4.120965171025998, details={'was_impossible': False}),\n",
       " Prediction(uid=9213, iid=56945, r_ui=4.0, est=4.1022880087265206, details={'was_impossible': False})]"
      ]
     },
     "execution_count": 13,
     "metadata": {},
     "output_type": "execute_result"
    }
   ],
   "source": [
    "predictions[:20]"
   ]
  },
  {
   "cell_type": "code",
   "execution_count": 11,
   "metadata": {},
   "outputs": [
    {
     "data": {
      "text/plain": [
       "(array([ 6033.,     0.,  1287.,     0.,  1390.,     0.,  4071.,     0.,\n",
       "        18755., 81700.]),\n",
       " array([0. , 0.5, 1. , 1.5, 2. , 2.5, 3. , 3.5, 4. , 4.5, 5. ]),\n",
       " <BarContainer object of 10 artists>)"
      ]
     },
     "execution_count": 11,
     "metadata": {},
     "output_type": "execute_result"
    },
    {
     "data": {
      "image/png": "[encoded data removed]",
      "text/plain": [
       "<Figure size 640x480 with 1 Axes>"
      ]
     },
     "metadata": {},
     "output_type": "display_data"
    }
   ],
   "source": [
    "plt.hist(valid_data['rating'], bins=10, range=(0, 5))"
   ]
  },
  {
   "cell_type": "code",
   "execution_count": 13,
   "metadata": {},
   "outputs": [
    {
     "data": {
      "text/plain": [
       "(array([ 48801.,      0.,  10227.,      0.,  11272.,      0.,  32518.,\n",
       "             0., 149817., 653259.]),\n",
       " array([0. , 0.5, 1. , 1.5, 2. , 2.5, 3. , 3.5, 4. , 4.5, 5. ]),\n",
       " <BarContainer object of 10 artists>)"
      ]
     },
     "execution_count": 13,
     "metadata": {},
     "output_type": "execute_result"
    },
    {
     "data": {
      "image/png": "[encoded data removed]",
      "text/plain": [
       "<Figure size 640x480 with 1 Axes>"
      ]
     },
     "metadata": {},
     "output_type": "display_data"
    }
   ],
   "source": [
    "plt.hist(train_data['rating'], bins=10, range=(0,5))"
   ]
  },
  {
   "cell_type": "code",
   "execution_count": 14,
   "metadata": {},
   "outputs": [
    {
     "ename": "NameError",
     "evalue": "name 'predictions' is not defined",
     "output_type": "error",
     "traceback": [
      "\u001b[0;31m---------------------------------------------------------------------------\u001b[0m",
      "\u001b[0;31mNameError\u001b[0m                                 Traceback (most recent call last)",
      "\u001b[1;32m/home/recbot/zzy/cse258-project/latent_factor.ipynb Cell 22\u001b[0m line \u001b[0;36m2\n\u001b[1;32m      <a href='vscode-notebook-cell://ssh-remote%2Brecbot/home/recbot/zzy/cse258-project/latent_factor.ipynb#X30sdnNjb2RlLXJlbW90ZQ%3D%3D?line=0'>1</a>\u001b[0m \u001b[39m# errors = [abs(p.r_ui - p.est) for p in predictions]\u001b[39;00m\n\u001b[0;32m----> <a href='vscode-notebook-cell://ssh-remote%2Brecbot/home/recbot/zzy/cse258-project/latent_factor.ipynb#X30sdnNjb2RlLXJlbW90ZQ%3D%3D?line=1'>2</a>\u001b[0m errors \u001b[39m=\u001b[39m [p\u001b[39m.\u001b[39mest \u001b[39mfor\u001b[39;00m p \u001b[39min\u001b[39;00m predictions]\n\u001b[1;32m      <a href='vscode-notebook-cell://ssh-remote%2Brecbot/home/recbot/zzy/cse258-project/latent_factor.ipynb#X30sdnNjb2RlLXJlbW90ZQ%3D%3D?line=2'>3</a>\u001b[0m \u001b[39m# draw a histogram of the errors\u001b[39;00m\n\u001b[1;32m      <a href='vscode-notebook-cell://ssh-remote%2Brecbot/home/recbot/zzy/cse258-project/latent_factor.ipynb#X30sdnNjb2RlLXJlbW90ZQ%3D%3D?line=3'>4</a>\u001b[0m plt\u001b[39m.\u001b[39mhist(errors, bins\u001b[39m=\u001b[39m\u001b[39m25\u001b[39m, \u001b[39mrange\u001b[39m\u001b[39m=\u001b[39m(\u001b[39m0\u001b[39m, \u001b[39m5\u001b[39m))\n",
      "\u001b[0;31mNameError\u001b[0m: name 'predictions' is not defined"
     ]
    }
   ],
   "source": [
    "# errors = [abs(p.r_ui - p.est) for p in predictions]\n",
    "errors = [p.est for p in predictions]\n",
    "# draw a histogram of the errors\n",
    "plt.hist(errors, bins=25, range=(0, 5))"
   ]
  },
  {
   "cell_type": "code",
   "execution_count": 25,
   "metadata": {},
   "outputs": [
    {
     "data": {
      "text/plain": [
       "(array([ 6013.,     0.,  1304.,     0.,  1461.,     0.,  4266.,     0.,\n",
       "        18788., 81405.]),\n",
       " array([0. , 0.5, 1. , 1.5, 2. , 2.5, 3. , 3.5, 4. , 4.5, 5. ]),\n",
       " <BarContainer object of 10 artists>)"
      ]
     },
     "execution_count": 25,
     "metadata": {},
     "output_type": "execute_result"
    },
    {
     "data": {
      "image/png": "[encoded data removed]",
      "text/plain": [
       "<Figure size 640x480 with 1 Axes>"
      ]
     },
     "metadata": {},
     "output_type": "display_data"
    }
   ],
   "source": [
    "labels = [p.r_ui for p in predictions]\n",
    "plt.hist(labels, bins=10, range=(0, 5))"
   ]
  }
 ],
 "metadata": {
  "kernelspec": {
   "display_name": "cse258",
   "language": "python",
   "name": "python3"
  },
  "language_info": {
   "codemirror_mode": {
    "name": "ipython",
    "version": 3
   },
   "file_extension": ".py",
   "mimetype": "text/x-python",
   "name": "python",
   "nbconvert_exporter": "python",
   "pygments_lexer": "ipython3",
   "version": "3.10.13"
  }
 },
 "nbformat": 4,
 "nbformat_minor": 2
}
