{
 "cells": [
  {
   "cell_type": "code",
   "execution_count": 9,
   "metadata": {},
   "outputs": [],
   "source": [
    "import pandas as pd\n",
    "import math\n",
    "from collections import defaultdict"
   ]
  },
  {
   "cell_type": "code",
   "execution_count": 10,
   "metadata": {},
   "outputs": [],
   "source": [
    "train_data = pd.read_csv('train.csv')\n",
    "valid_data = pd.read_csv('valid.csv')\n",
    "test_data = pd.read_csv('test.csv')"
   ]
  },
  {
   "cell_type": "code",
   "execution_count": 11,
   "metadata": {},
   "outputs": [
    {
     "name": "stdout",
     "output_type": "stream",
     "text": [
      "905894 113236 113237\n"
     ]
    }
   ],
   "source": [
    "print(len(train_data), len(valid_data), len(test_data))"
   ]
  },
  {
   "cell_type": "code",
   "execution_count": 12,
   "metadata": {},
   "outputs": [],
   "source": [
    "train_data = pd.concat([train_data, valid_data], ignore_index=True)"
   ]
  },
  {
   "cell_type": "code",
   "execution_count": 13,
   "metadata": {},
   "outputs": [],
   "source": [
    "# let's only use 1/10 of the train data\n",
    "# train_data = train_data.sample(frac=0.1, random_state=42)"
   ]
  },
  {
   "cell_type": "code",
   "execution_count": 14,
   "metadata": {},
   "outputs": [],
   "source": [
    "def cossim(s1, s2):\n",
    "  return len(s1.intersection(s2))/(math.sqrt(len(s1))*math.sqrt(len(s2)))"
   ]
  },
  {
   "cell_type": "code",
   "execution_count": 15,
   "metadata": {},
   "outputs": [
    {
     "name": "stdout",
     "output_type": "stream",
     "text": [
      "4.411299834172284\n"
     ]
    }
   ],
   "source": [
    "usersPerItem = defaultdict(set)\n",
    "itemsPerUser = defaultdict(set)\n",
    "itemSet = set([])\n",
    "ratingDict = {}\n",
    "meanRating = 0\n",
    "\n",
    "for j in range(len(train_data)):\n",
    "  u,i,r = train_data['user'][j], train_data['item'][j], train_data['rating'][j]\n",
    "  if i not in itemSet:\n",
    "        itemSet.add(i)\n",
    "  itemsPerUser[u].add(i)\n",
    "  usersPerItem[i].add(u)\n",
    "  ratingDict[u,i] = r\n",
    "  meanRating += r\n",
    "\n",
    "meanRating/=len(train_data)\n",
    "print(meanRating)"
   ]
  },
  {
   "cell_type": "code",
   "execution_count": 16,
   "metadata": {},
   "outputs": [
    {
     "name": "stdout",
     "output_type": "stream",
     "text": [
      "1.7234829469327653\n"
     ]
    }
   ],
   "source": [
    "test_rating = {}\n",
    "mse = 0\n",
    "\n",
    "for j in range(len(test_data)):\n",
    "    u,i,r = test_data['user'][j],test_data['item'][j],test_data['rating'][j]\n",
    "    numerator = 0\n",
    "    denominator = 0\n",
    "    pred = meanRating\n",
    "\n",
    "    if len(itemsPerUser[u]) != 0:\n",
    "        for user in usersPerItem[i]:\n",
    "            if user != u:\n",
    "                sim = cossim(itemsPerUser[user],itemsPerUser[u])\n",
    "                numerator += sim * ratingDict[user,i]\n",
    "                denominator += sim\n",
    "        \n",
    "        pred = meanRating\n",
    "        if denominator != 0 :\n",
    "            pred = numerator/denominator\n",
    "\n",
    "    test_rating[u,i] = (r,pred)\n",
    "    mse+=(r - pred)**2\n",
    "\n",
    "mse/=len(test_data)\n",
    "print(mse) "
   ]
  }
 ],
 "metadata": {
  "kernelspec": {
   "display_name": "cse258",
   "language": "python",
   "name": "python3"
  },
  "language_info": {
   "codemirror_mode": {
    "name": "ipython",
    "version": 3
   },
   "file_extension": ".py",
   "mimetype": "text/x-python",
   "name": "python",
   "nbconvert_exporter": "python",
   "pygments_lexer": "ipython3",
   "version": "3.10.13"
  }
 },
 "nbformat": 4,
 "nbformat_minor": 2
}
