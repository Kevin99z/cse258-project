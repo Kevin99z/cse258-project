{
 "cells": [
  {
   "cell_type": "code",
   "execution_count": 31,
   "metadata": {},
   "outputs": [],
   "source": [
    "import pandas as pd\n",
    "import numpy as np\n",
    "from surprise import SVD, accuracy, SVDpp\n",
    "from surprise import Dataset, Reader\n",
    "import matplotlib.pyplot as plt\n",
    "import math\n",
    "from collections import defaultdict"
   ]
  },
  {
   "cell_type": "code",
   "execution_count": 32,
   "metadata": {},
   "outputs": [],
   "source": [
    "train_data = pd.read_csv('train.csv')\n",
    "valid_data = pd.read_csv('valid.csv')\n",
    "test_data = pd.read_csv('test.csv')"
   ]
  },
  {
   "cell_type": "code",
   "execution_count": 33,
   "metadata": {},
   "outputs": [
    {
     "name": "stdout",
     "output_type": "stream",
     "text": [
      "905894 22647 203826\n"
     ]
    }
   ],
   "source": [
    "print(len(train_data), len(valid_data), len(test_data))"
   ]
  },
  {
   "cell_type": "code",
   "execution_count": 34,
   "metadata": {},
   "outputs": [
    {
     "data": {
      "text/html": [
       "<div>\n",
       "<style scoped>\n",
       "    .dataframe tbody tr th:only-of-type {\n",
       "        vertical-align: middle;\n",
       "    }\n",
       "\n",
       "    .dataframe tbody tr th {\n",
       "        vertical-align: top;\n",
       "    }\n",
       "\n",
       "    .dataframe thead th {\n",
       "        text-align: right;\n",
       "    }\n",
       "</style>\n",
       "<table border=\"1\" class=\"dataframe\">\n",
       "  <thead>\n",
       "    <tr style=\"text-align: right;\">\n",
       "      <th></th>\n",
       "      <th>user</th>\n",
       "      <th>item</th>\n",
       "      <th>rating</th>\n",
       "    </tr>\n",
       "  </thead>\n",
       "  <tbody>\n",
       "    <tr>\n",
       "      <th>0</th>\n",
       "      <td>113920</td>\n",
       "      <td>108234</td>\n",
       "      <td>0</td>\n",
       "    </tr>\n",
       "    <tr>\n",
       "      <th>1</th>\n",
       "      <td>40482</td>\n",
       "      <td>15627</td>\n",
       "      <td>4</td>\n",
       "    </tr>\n",
       "    <tr>\n",
       "      <th>2</th>\n",
       "      <td>59345</td>\n",
       "      <td>17898</td>\n",
       "      <td>3</td>\n",
       "    </tr>\n",
       "    <tr>\n",
       "      <th>3</th>\n",
       "      <td>73568</td>\n",
       "      <td>143053</td>\n",
       "      <td>2</td>\n",
       "    </tr>\n",
       "    <tr>\n",
       "      <th>4</th>\n",
       "      <td>5015</td>\n",
       "      <td>20171</td>\n",
       "      <td>5</td>\n",
       "    </tr>\n",
       "    <tr>\n",
       "      <th>...</th>\n",
       "      <td>...</td>\n",
       "      <td>...</td>\n",
       "      <td>...</td>\n",
       "    </tr>\n",
       "    <tr>\n",
       "      <th>905889</th>\n",
       "      <td>39575</td>\n",
       "      <td>71024</td>\n",
       "      <td>5</td>\n",
       "    </tr>\n",
       "    <tr>\n",
       "      <th>905890</th>\n",
       "      <td>2210</td>\n",
       "      <td>12029</td>\n",
       "      <td>5</td>\n",
       "    </tr>\n",
       "    <tr>\n",
       "      <th>905891</th>\n",
       "      <td>2509</td>\n",
       "      <td>35326</td>\n",
       "      <td>5</td>\n",
       "    </tr>\n",
       "    <tr>\n",
       "      <th>905892</th>\n",
       "      <td>39523</td>\n",
       "      <td>58287</td>\n",
       "      <td>5</td>\n",
       "    </tr>\n",
       "    <tr>\n",
       "      <th>905893</th>\n",
       "      <td>34388</td>\n",
       "      <td>109555</td>\n",
       "      <td>4</td>\n",
       "    </tr>\n",
       "  </tbody>\n",
       "</table>\n",
       "<p>905894 rows × 3 columns</p>\n",
       "</div>"
      ],
      "text/plain": [
       "          user    item  rating\n",
       "0       113920  108234       0\n",
       "1        40482   15627       4\n",
       "2        59345   17898       3\n",
       "3        73568  143053       2\n",
       "4         5015   20171       5\n",
       "...        ...     ...     ...\n",
       "905889   39575   71024       5\n",
       "905890    2210   12029       5\n",
       "905891    2509   35326       5\n",
       "905892   39523   58287       5\n",
       "905893   34388  109555       4\n",
       "\n",
       "[905894 rows x 3 columns]"
      ]
     },
     "execution_count": 34,
     "metadata": {},
     "output_type": "execute_result"
    }
   ],
   "source": [
    "train_data"
   ]
  },
  {
   "cell_type": "code",
   "execution_count": 28,
   "metadata": {},
   "outputs": [],
   "source": [
    "# let's only use 1/10 of the train data\n",
    "# train_data = train_data.sample(frac=0.1, random_state=42)"
   ]
  },
  {
   "cell_type": "code",
   "execution_count": 35,
   "metadata": {},
   "outputs": [],
   "source": [
    "def cossim(s1, s2):\n",
    "  return len(s1.intersection(s2))/(math.sqrt(len(s1))*math.sqrt(len(s2)))"
   ]
  },
  {
   "cell_type": "code",
   "execution_count": 37,
   "metadata": {},
   "outputs": [
    {
     "name": "stdout",
     "output_type": "stream",
     "text": [
      "4.41098848209614\n"
     ]
    }
   ],
   "source": [
    "usersPerItem = defaultdict(set)\n",
    "itemsPerUser = defaultdict(set)\n",
    "itemSet = set([])\n",
    "ratingDict = {}\n",
    "meanRating = 0\n",
    "\n",
    "for j in range(len(train_data)):\n",
    "  u,i,r = train_data['user'][j], train_data['item'][j], train_data['rating'][j]\n",
    "  if i not in itemSet:\n",
    "        itemSet.add(i)\n",
    "  itemsPerUser[u].add(i)\n",
    "  usersPerItem[i].add(u)\n",
    "  ratingDict[u,i] = r\n",
    "  meanRating += r\n",
    "\n",
    "meanRating/=len(train_data)\n",
    "print(meanRating)"
   ]
  },
  {
   "cell_type": "code",
   "execution_count": 39,
   "metadata": {},
   "outputs": [
    {
     "name": "stdout",
     "output_type": "stream",
     "text": [
      "1.7178062574030326\n"
     ]
    }
   ],
   "source": [
    "test_rating = {}\n",
    "mse = 0\n",
    "\n",
    "for j in range(len(test_data)):\n",
    "    u,i,r = test_data['user'][j],test_data['item'][j],test_data['rating'][j]\n",
    "    numerator = 0\n",
    "    denominator = 0\n",
    "    pred = meanRating\n",
    "\n",
    "    if len(itemsPerUser[u]) != 0:\n",
    "        for user in usersPerItem[i]:\n",
    "            if user != u:\n",
    "                sim = cossim(itemsPerUser[user],itemsPerUser[u])\n",
    "                numerator += sim * ratingDict[user,i]\n",
    "                denominator += sim\n",
    "        \n",
    "        pred = meanRating\n",
    "        if denominator != 0 :\n",
    "            pred = numerator/denominator\n",
    "\n",
    "    test_rating[u,i] = (r,pred)\n",
    "    mse+=(r - pred)**2\n",
    "\n",
    "mse/=len(test_data)\n",
    "print(mse) "
   ]
  }
 ],
 "metadata": {
  "kernelspec": {
   "display_name": "cse258",
   "language": "python",
   "name": "python3"
  },
  "language_info": {
   "codemirror_mode": {
    "name": "ipython",
    "version": 3
   },
   "file_extension": ".py",
   "mimetype": "text/x-python",
   "name": "python",
   "nbconvert_exporter": "python",
   "pygments_lexer": "ipython3",
   "version": "3.11.2"
  }
 },
 "nbformat": 4,
 "nbformat_minor": 2
}
