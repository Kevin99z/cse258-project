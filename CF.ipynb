{
 "cells": [
  {
   "cell_type": "code",
   "execution_count": 1,
   "metadata": {},
   "outputs": [],
   "source": [
    "import pandas as pd\n",
    "import math\n",
    "from collections import defaultdict\n",
    "from tqdm import tqdm"
   ]
  },
  {
   "cell_type": "code",
   "execution_count": 2,
   "metadata": {},
   "outputs": [],
   "source": [
    "train_data = pd.read_csv('train.csv')\n",
    "valid_data = pd.read_csv('valid.csv')\n",
    "test_data = pd.read_csv('test.csv')"
   ]
  },
  {
   "cell_type": "code",
   "execution_count": 3,
   "metadata": {},
   "outputs": [
    {
     "name": "stdout",
     "output_type": "stream",
     "text": [
      "905894 113236 113237\n"
     ]
    }
   ],
   "source": [
    "print(len(train_data), len(valid_data), len(test_data))"
   ]
  },
  {
   "cell_type": "code",
   "execution_count": 4,
   "metadata": {},
   "outputs": [],
   "source": [
    "train_data = pd.concat([train_data, valid_data], ignore_index=True)"
   ]
  },
  {
   "cell_type": "code",
   "execution_count": 5,
   "metadata": {},
   "outputs": [],
   "source": [
    "# let's only use 1/10 of the train data\n",
    "# train_data = train_data.sample(frac=0.1, random_state=42)"
   ]
  },
  {
   "cell_type": "code",
   "execution_count": 6,
   "metadata": {},
   "outputs": [
    {
     "name": "stdout",
     "output_type": "stream",
     "text": [
      "4.411299834172284\n"
     ]
    }
   ],
   "source": [
    "usersPerItem = defaultdict(set)\n",
    "itemsPerUser = defaultdict(set)\n",
    "itemSet = set([])\n",
    "ratingDict = {}\n",
    "meanRating = 0\n",
    "\n",
    "for j in range(len(train_data)):\n",
    "  u,i,r = train_data['user'][j], train_data['item'][j], train_data['rating'][j]\n",
    "  if i not in itemSet:\n",
    "        itemSet.add(i)\n",
    "  itemsPerUser[u].add(i)\n",
    "  usersPerItem[i].add(u)\n",
    "  ratingDict[u,i] = r\n",
    "  meanRating += r\n",
    "\n",
    "meanRating/=len(train_data)\n",
    "print(meanRating)"
   ]
  },
  {
   "cell_type": "code",
   "execution_count": 7,
   "metadata": {},
   "outputs": [],
   "source": [
    "def jaccard(s1, s2):\n",
    "  if len(s1) == 0 or len(s2) == 0:\n",
    "    return 0\n",
    "  return len(s1.intersection(s2))/len(s1.union(s2))"
   ]
  },
  {
   "cell_type": "code",
   "execution_count": 8,
   "metadata": {},
   "outputs": [],
   "source": [
    "from functools import cache\n",
    "\n",
    "@cache\n",
    "def cosineUser(u1, u2):\n",
    "    # sum over intersection of items\n",
    "    common_items = itemsPerUser[u1].intersection(itemsPerUser[u2])\n",
    "    numerator = sum(ratingDict[u1,i]*ratingDict[u2,i] for i in common_items)\n",
    "    denominator = math.sqrt(sum(ratingDict[u1,i]**2 for i in common_items))*math.sqrt(sum(ratingDict[u2,i]**2 for i in common_items))\n",
    "    return numerator/denominator if denominator != 0 else 0\n",
    "\n",
    "@cache \n",
    "def cosineItem(i1, i2):\n",
    "    # sum over intersection of users\n",
    "    common_users = usersPerItem[i1].intersection(usersPerItem[i2])\n",
    "    numerator = sum(ratingDict[u,i1]*ratingDict[u,i2] for u in common_users)\n",
    "    denominator = math.sqrt(sum(ratingDict[u,i1]**2 for u in common_users))*math.sqrt(sum(ratingDict[u,i2]**2 for u in common_users))\n",
    "    return numerator/denominator if denominator != 0 else 0\n",
    "\n",
    "@cache\n",
    "def mean(u):\n",
    "    return sum(ratingDict[u,i] for i in itemsPerUser[u])/len(itemsPerUser[u])\n",
    "\n",
    "@cache\n",
    "def pearsonUser(u1, u2):\n",
    "    # sum over intersection of items\n",
    "    common_items = itemsPerUser[u1].intersection(itemsPerUser[u2])\n",
    "    numerator = sum((ratingDict[u1,i]-mean(u1))*(ratingDict[u2,i]-mean(u2)) for i in common_items)\n",
    "    denominator = math.sqrt(sum((ratingDict[u1,i]-mean(u1))**2 for i in common_items))*math.sqrt(sum((ratingDict[u2,i]-mean(u2))**2 for i in common_items))\n",
    "    return numerator/denominator if denominator != 0 else 0"
   ]
  },
  {
   "cell_type": "code",
   "execution_count": 13,
   "metadata": {},
   "outputs": [
    {
     "name": "stdout",
     "output_type": "stream",
     "text": [
      "1.7357767163829891\n"
     ]
    }
   ],
   "source": [
    "test_rating = {}\n",
    "mse = 0\n",
    "\n",
    "for j in tqdm(range(len(test_data))):\n",
    "    u,i,r = test_data['user'][j],test_data['item'][j],test_data['rating'][j]\n",
    "    numerator = 0\n",
    "    denominator = 0\n",
    "    pred = meanRating\n",
    "\n",
    "    if len(itemsPerUser[u]) != 0:\n",
    "        for user in usersPerItem[i]:\n",
    "            if user != u:\n",
    "                sim = jaccard(itemsPerUser[user],itemsPerUser[u])\n",
    "                numerator += sim * ratingDict[user,i]\n",
    "                denominator += sim\n",
    "        \n",
    "        pred = meanRating\n",
    "        if denominator != 0 :\n",
    "            pred = numerator/denominator\n",
    "\n",
    "    test_rating[u,i] = (r,pred)\n",
    "    mse+=(r - pred)**2\n",
    "\n",
    "mse/=len(test_data)\n",
    "print(mse) "
   ]
  },
  {
   "cell_type": "code",
   "execution_count": 14,
   "metadata": {},
   "outputs": [
    {
     "name": "stdout",
     "output_type": "stream",
     "text": [
      "1.6544342830769525\n"
     ]
    }
   ],
   "source": [
    "test_rating = {}\n",
    "mse = 0\n",
    "\n",
    "for j in tqdm(range(len(test_data))):\n",
    "    u,i,r = test_data['user'][j],test_data['item'][j],test_data['rating'][j]\n",
    "    numerator = 0\n",
    "    denominator = 0\n",
    "    pred = meanRating\n",
    "\n",
    "    # item-based\n",
    "    if len(itemsPerUser[u]) != 0:\n",
    "        for item in itemsPerUser[u]:\n",
    "            if item != i:\n",
    "                sim = jaccard(usersPerItem[item],usersPerItem[i])\n",
    "                numerator += sim * ratingDict[u,item]\n",
    "                denominator += sim\n",
    "        \n",
    "        pred = meanRating\n",
    "        if denominator != 0 :\n",
    "            pred = numerator/denominator\n",
    "\n",
    "    test_rating[u,i] = (r,pred)\n",
    "    mse+=(r - pred)**2\n",
    "\n",
    "mse/=len(test_data)\n",
    "print(mse) "
   ]
  },
  {
   "cell_type": "code",
   "execution_count": 9,
   "metadata": {},
   "outputs": [
    {
     "name": "stderr",
     "output_type": "stream",
     "text": [
      "  0%|          | 0/113237 [00:00<?, ?it/s]"
     ]
    },
    {
     "name": "stderr",
     "output_type": "stream",
     "text": [
      "100%|██████████| 113237/113237 [02:50<00:00, 664.08it/s]"
     ]
    },
    {
     "name": "stdout",
     "output_type": "stream",
     "text": [
      "1.6365000331996853\n"
     ]
    },
    {
     "name": "stderr",
     "output_type": "stream",
     "text": [
      "\n"
     ]
    }
   ],
   "source": [
    "test_rating = {}\n",
    "mse = 0\n",
    "\n",
    "for j in tqdm(range(len(test_data))):\n",
    "    u,i,r = test_data['user'][j],test_data['item'][j],test_data['rating'][j]\n",
    "    numerator = 0\n",
    "    denominator = 0\n",
    "    pred = meanRating\n",
    "\n",
    "    # item-based\n",
    "    if len(itemsPerUser[u]) != 0:\n",
    "        for item in itemsPerUser[u]:\n",
    "            if item != i:\n",
    "                sim = cosineItem(item,i)\n",
    "                numerator += sim * ratingDict[u,item]\n",
    "                denominator += sim\n",
    "        \n",
    "        pred = meanRating\n",
    "        if denominator != 0 :\n",
    "            pred = numerator/denominator\n",
    "\n",
    "    test_rating[u,i] = (r,pred)\n",
    "    mse+=(r - pred)**2\n",
    "\n",
    "mse/=len(test_data)\n",
    "print(mse) "
   ]
  },
  {
   "cell_type": "code",
   "execution_count": 19,
   "metadata": {},
   "outputs": [
    {
     "data": {
      "text/plain": [
       "(array([4.0800e+02, 2.0000e+00, 6.0000e+00, 2.0000e+00, 8.4000e+01,\n",
       "        1.0000e+00, 1.1000e+01, 2.5000e+01, 2.8000e+01, 1.5400e+02,\n",
       "        1.5000e+01, 4.5000e+01, 2.7100e+02, 7.1000e+01, 4.4600e+02,\n",
       "        1.1700e+02, 4.0000e+02, 5.1600e+02, 9.0900e+02, 2.9430e+03,\n",
       "        1.9720e+03, 4.0400e+03, 5.2168e+04, 1.3836e+04, 3.4767e+04]),\n",
       " array([0. , 0.2, 0.4, 0.6, 0.8, 1. , 1.2, 1.4, 1.6, 1.8, 2. , 2.2, 2.4,\n",
       "        2.6, 2.8, 3. , 3.2, 3.4, 3.6, 3.8, 4. , 4.2, 4.4, 4.6, 4.8, 5. ]),\n",
       " <BarContainer object of 25 artists>)"
      ]
     },
     "execution_count": 19,
     "metadata": {},
     "output_type": "execute_result"
    },
    {
     "data": {
      "image/png": "[encoded data removed]",
      "text/plain": [
       "<Figure size 640x480 with 1 Axes>"
      ]
     },
     "metadata": {},
     "output_type": "display_data"
    }
   ],
   "source": [
    "preds = [pred for r, pred in test_rating.values()]\n",
    "import matplotlib.pyplot as plt\n",
    "plt.hist(preds, bins=25)"
   ]
  },
  {
   "cell_type": "code",
   "execution_count": 10,
   "metadata": {},
   "outputs": [
    {
     "name": "stderr",
     "output_type": "stream",
     "text": [
      "  0%|          | 0/113237 [00:00<?, ?it/s]"
     ]
    },
    {
     "name": "stderr",
     "output_type": "stream",
     "text": [
      "100%|██████████| 113237/113237 [00:21<00:00, 5330.29it/s]"
     ]
    },
    {
     "name": "stdout",
     "output_type": "stream",
     "text": [
      "1.6988795432523276\n"
     ]
    },
    {
     "name": "stderr",
     "output_type": "stream",
     "text": [
      "\n"
     ]
    }
   ],
   "source": [
    "test_rating = {}\n",
    "mse = 0\n",
    "\n",
    "for j in tqdm(range(len(test_data))):\n",
    "    u,i,r = test_data['user'][j],test_data['item'][j],test_data['rating'][j]\n",
    "    numerator = 0\n",
    "    denominator = 0\n",
    "    pred = meanRating\n",
    "\n",
    "    if len(itemsPerUser[u]) != 0:\n",
    "        for user in usersPerItem[i]:\n",
    "            if user != u:\n",
    "                sim = cosineUser(user,u)\n",
    "                numerator += sim * ratingDict[user,i]\n",
    "                denominator += sim\n",
    "        \n",
    "        pred = meanRating\n",
    "        if denominator != 0 :\n",
    "            pred = numerator/denominator\n",
    "\n",
    "    test_rating[u,i] = (r,pred)\n",
    "    mse+=(r - pred)**2\n",
    "\n",
    "mse/=len(test_data)\n",
    "print(mse) "
   ]
  },
  {
   "cell_type": "code",
   "execution_count": 9,
   "metadata": {},
   "outputs": [
    {
     "name": "stderr",
     "output_type": "stream",
     "text": [
      "100%|██████████| 113237/113237 [00:22<00:00, 4967.67it/s]"
     ]
    },
    {
     "name": "stdout",
     "output_type": "stream",
     "text": [
      "5.074139915944861e+28\n"
     ]
    },
    {
     "name": "stderr",
     "output_type": "stream",
     "text": [
      "\n"
     ]
    }
   ],
   "source": [
    "test_rating = {}\n",
    "mse = 0\n",
    "\n",
    "for j in tqdm(range(len(test_data))):\n",
    "    u,i,r = test_data['user'][j],test_data['item'][j],test_data['rating'][j]\n",
    "    numerator = 0\n",
    "    denominator = 0\n",
    "    pred = meanRating\n",
    "\n",
    "    if len(itemsPerUser[u]) != 0:\n",
    "        for user in usersPerItem[i]:\n",
    "            if user != u:\n",
    "                sim = pearsonUser(user,u)\n",
    "                numerator += sim * ratingDict[user,i]\n",
    "                denominator += sim\n",
    "        \n",
    "        pred = meanRating\n",
    "        if denominator != 0 :\n",
    "            pred = numerator/denominator\n",
    "\n",
    "    test_rating[u,i] = (r,pred)\n",
    "    mse+=(r - pred)**2\n",
    "\n",
    "mse/=len(test_data)\n",
    "print(mse) "
   ]
  },
  {
   "cell_type": "code",
   "execution_count": 8,
   "metadata": {},
   "outputs": [
    {
     "name": "stdout",
     "output_type": "stream",
     "text": [
      "1.5945964994326234\n"
     ]
    }
   ],
   "source": [
    "# naive baseline\n",
    "test_rating = {}\n",
    "mse = 0\n",
    "\n",
    "for j in range(len(test_data)):\n",
    "    u,i,r = test_data['user'][j],test_data['item'][j],test_data['rating'][j]\n",
    "    numerator = 0\n",
    "    denominator = 0\n",
    "    pred = meanRating\n",
    "\n",
    "    test_rating[u,i] = (r,pred)\n",
    "    mse+=(r - pred)**2\n",
    "\n",
    "mse/=len(test_data)\n",
    "print(mse) "
   ]
  }
 ],
 "metadata": {
  "kernelspec": {
   "display_name": "cse258",
   "language": "python",
   "name": "python3"
  },
  "language_info": {
   "codemirror_mode": {
    "name": "ipython",
    "version": 3
   },
   "file_extension": ".py",
   "mimetype": "text/x-python",
   "name": "python",
   "nbconvert_exporter": "python",
   "pygments_lexer": "ipython3",
   "version": "3.10.13"
  }
 },
 "nbformat": 4,
 "nbformat_minor": 2
}
